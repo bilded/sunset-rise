{
 "cells": [
  {
   "cell_type": "code",
   "execution_count": 8,
   "id": "cfbca1f0",
   "metadata": {},
   "outputs": [
    {
     "name": "stdout",
     "output_type": "stream",
     "text": [
      "hi\n"
     ]
    }
   ],
   "source": [
    "# import pandas as pd\n",
    "# sun_file = pd.read_csv(\"SunRise_Set\",header=None)\n",
    "\n",
    "# Day = [] # 해당 날짜 \n",
    "# sunset = [] # 일몰\n",
    "# sunrise = [] #일출\n",
    "\n",
    "print('hi')"
   ]
  },
  {
   "cell_type": "code",
   "execution_count": 51,
   "id": "35e6a06e",
   "metadata": {},
   "outputs": [
    {
     "name": "stdout",
     "output_type": "stream",
     "text": [
      "['양력(일)', '월출몰', '']\n",
      "['', '출', '몰']\n",
      "['20220501', '05:49', '19:46']\n",
      "['20220502', '06:19', '20:48']\n",
      "['20220503', '06:53', '21:48']\n",
      "['20220504', '07:31', '22:45']\n",
      "['20220505', '08:15', '23:39']\n",
      "['20220506', '09:05', '--:--']\n",
      "['20220507', '10:00', '00:27']\n",
      "['20220508', '10:58', '01:10']\n",
      "['20220509', '11:59', '01:47']\n",
      "['20220510', '13:00', '02:19']\n",
      "['20220511', '14:03', '02:48']\n",
      "['20220512', '15:06', '03:15']\n",
      "['20220513', '16:12', '03:42']\n",
      "['20220514', '17:21', '04:10']\n",
      "['20220515', '18:33', '04:40']\n",
      "['20220516', '19:48', '05:15']\n",
      "['20220517', '21:05', '05:56']\n",
      "['20220518', '22:18', '06:47']\n",
      "['20220519', '23:23', '07:47']\n",
      "['20220520', '--:--', '08:55']\n",
      "['20220521', '00:18', '10:07']\n",
      "['20220522', '01:02', '11:19']\n",
      "['20220523', '01:38', '12:28']\n",
      "['20220524', '02:09', '13:33']\n",
      "['20220525', '02:36', '14:36']\n",
      "['20220526', '03:02', '15:37']\n",
      "['20220527', '03:27', '16:38']\n",
      "['20220528', '03:53', '17:38']\n",
      "['20220529', '04:21', '18:39']\n",
      "['20220530', '04:53', '19:39']\n",
      "['20220531', '05:29', '20:38']\n",
      "--------------------------------------------------\n",
      "--------------------------------------------------\n"
     ]
    }
   ],
   "source": [
    "import csv\n",
    " \n",
    "f = open(\"SunRise_Set.csv\",\"r\") #파일 읽기 \n",
    "reader = csv.reader(f)\n",
    "\n",
    "\n",
    "for i in reader: #row라는 변수에 읽은 cvs파일을 하나씩 추가하여라 \n",
    "    total = []\n",
    "    total.append(i[0])\n",
    "    total.append(i[5])\n",
    "    total.append(i[7])\n",
    "    print(total)\n",
    "    \n",
    "    #day =[]\n",
    "    #day.append(i[0])\n",
    "    #print(day)\n",
    "    \n",
    "    #sunrise =[]\n",
    "    #sunrise.append(i[5])\n",
    "    #print(sunrise)\n",
    "    \n",
    "    #sunset =[]\n",
    "    #sunset.append(i[7])\n",
    "    #print(sunset)\n",
    "    \n",
    "    \n",
    "print(\"--------------------------------------------------\")\n",
    "\n",
    "for j in reader:\n",
    "    sunrise =[]\n",
    "    sunrise.append(j[5])\n",
    "    print(sunrise)\n",
    "print(\"--------------------------------------------------\")    \n",
    "for k in reader:\n",
    "    sunset =[]\n",
    "    sunset.append(k[7])\n",
    "    print(sunset)\n",
    "    \n",
    "\n",
    "    \n",
    "#양력일은 0번째,  월출 데이터는 5번째, 월몰 데이터는 7번째에 위치해있다. \n"
   ]
  },
  {
   "cell_type": "code",
   "execution_count": null,
   "id": "02907d79",
   "metadata": {},
   "outputs": [],
   "source": []
  },
  {
   "cell_type": "code",
   "execution_count": null,
   "id": "872387e0",
   "metadata": {},
   "outputs": [],
   "source": []
  }
 ],
 "metadata": {
  "kernelspec": {
   "display_name": "Python 3 (ipykernel)",
   "language": "python",
   "name": "python3"
  },
  "language_info": {
   "codemirror_mode": {
    "name": "ipython",
    "version": 3
   },
   "file_extension": ".py",
   "mimetype": "text/x-python",
   "name": "python",
   "nbconvert_exporter": "python",
   "pygments_lexer": "ipython3",
   "version": "3.9.7"
  }
 },
 "nbformat": 4,
 "nbformat_minor": 5
}
