{
 "cells": [
  {
   "cell_type": "code",
   "execution_count": 8,
   "id": "cfbca1f0",
   "metadata": {},
   "outputs": [
    {
     "name": "stdout",
     "output_type": "stream",
     "text": [
      "hi\n"
     ]
    }
   ],
   "source": [
    "# import pandas as pd\n",
    "# sun_file = pd.read_csv(\"SunRise_Set\",header=None)\n",
    "\n",
    "# Day = [] # 해당 날짜 \n",
    "# sunset = [] # 일몰\n",
    "# sunrise = [] #일출\n",
    "\n",
    "print('hi')"
   ]
  },
  {
   "cell_type": "code",
   "execution_count": 16,
   "id": "35e6a06e",
   "metadata": {},
   "outputs": [
    {
     "name": "stdout",
     "output_type": "stream",
     "text": [
      "2022-05-10\n",
      "숫자를 선택해주세요 \n",
      " 1) 월출 2) 월몰1\n"
     ]
    }
   ],
   "source": [
    "import csv\n",
    "import datetime\n",
    "\n",
    "f = open(\"SunRise_Set.csv\",\"r\") #파일 읽기 \n",
    "reader = csv.reader(f)\n",
    "\n",
    "\n",
    "for i in reader: #row라는 변수에 읽은 cvs파일을 하나씩 추가하여라 \n",
    "    total = []\n",
    "    total.append(i[0])\n",
    "    total.append(i[5])\n",
    "    total.append(i[7])\n",
    "    \n",
    "#양력일은 0번째,  월출 데이터는 5번째, 월몰 데이터는 7번째에 위치해있다. \n",
    "\n",
    "today = datetime.date.today()\n",
    "print(today)\n",
    "today = str(today)\n",
    "today.strip('-')\n",
    "\n",
    "\n",
    "user = int(input(\"숫자를 선택해주세요 \\n 1) 월출 2) 월몰\"))\n",
    "\n",
    "if user == 1:\n",
    "    for sunrise in total:\n",
    "        if today == sunrise:\n",
    "            print(sunrise)\n",
    "            \n",
    "elif user == 2:\n",
    "    for sunrise in total:\n",
    "        if today == sunrise:\n",
    "            print(sunrise)\n",
    "else:\n",
    "    print(\"잘못 눌렀어용 ㅜ 다시 눌러죵 \")"
   ]
  },
  {
   "cell_type": "code",
   "execution_count": null,
   "id": "5ebd4164",
   "metadata": {},
   "outputs": [],
   "source": []
  },
  {
   "cell_type": "code",
   "execution_count": null,
   "id": "8463d697",
   "metadata": {},
   "outputs": [],
   "source": []
  }
 ],
 "metadata": {
  "kernelspec": {
   "display_name": "Python 3 (ipykernel)",
   "language": "python",
   "name": "python3"
  },
  "language_info": {
   "codemirror_mode": {
    "name": "ipython",
    "version": 3
   },
   "file_extension": ".py",
   "mimetype": "text/x-python",
   "name": "python",
   "nbconvert_exporter": "python",
   "pygments_lexer": "ipython3",
   "version": "3.9.7"
  }
 },
 "nbformat": 4,
 "nbformat_minor": 5
}
