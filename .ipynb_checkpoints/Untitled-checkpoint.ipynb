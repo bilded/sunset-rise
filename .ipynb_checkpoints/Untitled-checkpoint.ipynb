{
 "cells": [
  {
   "cell_type": "code",
   "execution_count": 3,
   "id": "cfbca1f0",
   "metadata": {},
   "outputs": [
    {
     "name": "stdout",
     "output_type": "stream",
     "text": [
      "오늘의 날짜 :  20220515\n",
      "숫자를 선택해주세요 \n",
      " 1) 월출 2) 월몰\n",
      "1\n",
      "오늘의 월출시간은  18:33 입니다.\n"
     ]
    }
   ],
   "source": [
    "# 프로젝트를 두개로, 합치지 않음,\n",
    "import csv\n",
    "import datetime\n",
    "\n",
    "f = open(\"SunRise_Set.csv\",\"r\") #파일 읽기 \n",
    "reader = csv.reader(f)\n",
    "    \n",
    "total = [] #for문 안에 넣으니까 리스트가 계속 초기화 돼서 밖으로 빼냄\n",
    "for i in reader: #row라는 변수에 읽은 cvs파일을 하나씩 추가하여라 \n",
    "    total.append(i[0])\n",
    "    total.append(i[5])\n",
    "    total.append(i[7])\n",
    "#print(total)\n",
    "\n",
    "today = datetime.date.today() # 오늘 날짜를 today에 넣어라\n",
    "\n",
    "today = str(today)# 문자열로 바꾸고\n",
    "today = today.replace('-','')#'-'를 공백으로 바꿔라.\n",
    "print('오늘의 날짜 : ',today)\n",
    "\n",
    "day = total.index(today) # 리스트 안에 당일 날짜의 위치를 반환. \n",
    "\n",
    "sunrise = total[day + 1] # 당일 날짜 +1의 위치가 월출\n",
    "sunset = total[day + 2] # 당일 날짜 +1의 위치가 월몰\n",
    "\n",
    "\n",
    "user = int(input(\"숫자를 선택해주세요 \\n 1) 월출 2) 월몰\\n\"))\n",
    "\n",
    "if user == 1:\n",
    "    if sunrise == '--:--':\n",
    "        print('계산할 수 없습니다. ')\n",
    "    else:\n",
    "        print('오늘의 월출시간은 ', sunrise, '입니다.')\n",
    "        \n",
    "elif user == 2:\n",
    "    if sunrise == '--:--':\n",
    "        print('계산할 수 없습니다.')\n",
    "    else:\n",
    "        print('오늘의 월몰시간은 ', sunset, '입니다.')\n",
    "else: \n",
    "    print('잘못 입력하셨습니다. 1 또는 2를 입력해주세요.')\n",
    "    \n",
    "    \n",
    "# 지역 /허오오오오오오오옹 깃허브에 와 저장이 안돼지\n",
    "# 월출, 월몰 내용을 엑셀 파일에 새로 넣기.\n",
    "\n"
   ]
  },
  {
   "cell_type": "code",
   "execution_count": 39,
   "id": "35e6a06e",
   "metadata": {},
   "outputs": [
    {
     "name": "stdout",
     "output_type": "stream",
     "text": [
      "['양력(일)', '월출몰', '']\n",
      "['', '출', '몰']\n",
      "['20220501', '05:49', '19:46']\n",
      "['20220502', '06:19', '20:48']\n",
      "['20220503', '06:53', '21:48']\n",
      "['20220504', '07:31', '22:45']\n",
      "['20220505', '08:15', '23:39']\n",
      "['20220506', '09:05', '--:--']\n",
      "['20220507', '10:00', '00:27']\n",
      "['20220508', '10:58', '01:10']\n",
      "['20220509', '11:59', '01:47']\n",
      "['20220510', '13:00', '02:19']\n",
      "['20220511', '14:03', '02:48']\n",
      "['20220512', '15:06', '03:15']\n",
      "['20220513', '16:12', '03:42']\n",
      "['20220514', '17:21', '04:10']\n",
      "['20220515', '18:33', '04:40']\n",
      "['20220516', '19:48', '05:15']\n",
      "['20220517', '21:05', '05:56']\n",
      "['20220518', '22:18', '06:47']\n",
      "['20220519', '23:23', '07:47']\n",
      "['20220520', '--:--', '08:55']\n",
      "['20220521', '00:18', '10:07']\n",
      "['20220522', '01:02', '11:19']\n",
      "['20220523', '01:38', '12:28']\n",
      "['20220524', '02:09', '13:33']\n",
      "['20220525', '02:36', '14:36']\n",
      "['20220526', '03:02', '15:37']\n",
      "['20220527', '03:27', '16:38']\n",
      "['20220528', '03:53', '17:38']\n",
      "['20220529', '04:21', '18:39']\n",
      "['20220530', '04:53', '19:39']\n",
      "['20220531', '05:29', '20:38']\n",
      "오늘의 날짜 :  20220510\n",
      "숫자를 선택해주세요 \n",
      " 1) 월출 2) 월몰1\n",
      "20220531\n",
      "05:29\n",
      "20:38\n"
     ]
    }
   ],
   "source": [
    "import csv\n",
    "import datetime\n",
    "\n",
    "f = open(\"SunRise_Set.csv\",\"r\") #파일 읽기 \n",
    "reader = csv.reader(f)\n",
    "\n",
    "\n",
    "for i in reader: #row라는 변수에 읽은 cvs파일을 하나씩 추가하여라 \n",
    "    total = []\n",
    "    total.append(i[0])\n",
    "    total.append(i[5])\n",
    "    total.append(i[7])\n",
    "    print(total)\n",
    "    \n",
    "#양력일은 0번째,  월출 데이터는 5번째, 월몰 데이터는 7번째에 위치해있다. \n",
    "\n",
    "today = datetime.date.today()\n",
    "\n",
    "today = str(today)\n",
    "today = today.replace('-','')\n",
    "print('오늘의 날짜 : ',today)\n",
    "\n",
    "\n",
    "user = int(input(\"숫자를 선택해주세요 \\n 1) 월출 2) 월몰\"))\n",
    "\n",
    "if user == 1:\n",
    "    for sunrise in total:\n",
    "        print(sunrise)\n",
    "        if total == today[0:9] :\n",
    "            print('밥')\n",
    "            print(sunrise)\n",
    "            \n",
    "elif user == 2:\n",
    "    for sunrise in total:\n",
    "        print('밥1')\n",
    "        if today == sunrise:\n",
    "            print('밥')\n",
    "            print(sunrise)\n",
    "else:\n",
    "    print(\"잘못 눌렀어용 ㅜ 다시 눌러죵 \")"
   ]
  },
  {
   "cell_type": "code",
   "execution_count": 1,
   "id": "5ebd4164",
   "metadata": {},
   "outputs": [
    {
     "name": "stdout",
     "output_type": "stream",
     "text": [
      "오늘의 날짜 :  20220522\n",
      "숫자를 선택해주세요 \n",
      " 1) 월출 2) 월몰\n",
      "1\n",
      "<function choice at 0x0000023964BFC4C0>\n"
     ]
    }
   ],
   "source": [
    "# 프로젝트를 두개로, 합치지 않음,\n",
    "import csv\n",
    "import datetime\n",
    "\n",
    "def choice(x):\n",
    "    if user == 1:\n",
    "        if sunrise == '--:--':\n",
    "            print('계산할 수 없습니다. ')\n",
    "        else:\n",
    "            print('오늘의 월출시간은 ', sunrise, '입니다.')\n",
    "        \n",
    "    elif user == 2:\n",
    "        if sunrise == '--:--':\n",
    "            print('계산할 수 없습니다.')\n",
    "        else:\n",
    "            print('오늘의 월몰시간은 ', sunset, '입니다.')\n",
    "    else: \n",
    "        print('잘못 입력하셨습니다. 1 또는 2를 입력해주세요.')\n",
    "    \n",
    "\n",
    "f = open(\"SunRise_Set.csv\",\"r\") #파일 읽기 \n",
    "reader = csv.reader(f)\n",
    "    \n",
    "total = [] #for문 안에 넣으니까 리스트가 계속 초기화 돼서 밖으로 빼냄\n",
    "for i in reader: #row라는 변수에 읽은 cvs파일을 하나씩 추가하여라 \n",
    "    total.append(i[0])\n",
    "    total.append(i[5])\n",
    "    total.append(i[7])\n",
    "#print(total)\n",
    "\n",
    "today = datetime.date.today() # 오늘 날짜를 today에 넣어라\n",
    "\n",
    "today = str(today)# 문자열로 바꾸고\n",
    "today = today.replace('-','')#'-'를 공백으로 바꿔라.\n",
    "print('오늘의 날짜 : ',today)\n",
    "\n",
    "day = total.index(today) # 리스트 안에 당일 날짜의 위치를 반환. \n",
    "\n",
    "sunrise = total[day + 1] # 당일 날짜 +1의 위치가 월출\n",
    "sunset = total[day + 2] # 당일 날짜 +1의 위치가 월몰\n",
    "\n",
    "\n",
    "user = int(input(\"숫자를 선택해주세요 \\n 1) 월출 2) 월몰\\n\"))\n",
    "print(choice)\n",
    "\n",
    "    \n",
    "# 지역 /허오오오오오오오옹 깃허브에 와 저장이 안돼지\n",
    "# 월출, 월몰 내용을 엑셀 파일에 새로 넣기.\n",
    "\n"
   ]
  },
  {
   "cell_type": "code",
   "execution_count": 3,
   "id": "8463d697",
   "metadata": {},
   "outputs": [],
   "source": [
    "#정보를 불러올 csv파일을 2개 만든다. 달월, 달몰 날짜, 지역 순서로 만들어서 리스트로 하나씩 빼온다,\n",
    "\n",
    "f = open(\"SunRise_Set.csv\",\"r\") #파일 읽기 \n",
    "reader = csv.reader(f)\n",
    "\n",
    "def sunset():\n",
    "    total = []\n",
    "    for i in range(0,8):\n",
    "        \n",
    "        for j in reader: #row라는 변수에 읽은 cvs파일을 하나씩 추가하여라 \n",
    "        total.append(i[0])#날짜\n",
    "        total.append(i[7])# 월몰시각\n",
    "        print(total)\n",
    "    "
   ]
  },
  {
   "cell_type": "code",
   "execution_count": 7,
   "id": "c577f1c3",
   "metadata": {},
   "outputs": [
    {
     "name": "stdout",
     "output_type": "stream",
     "text": [
      "['a', 'b', 'c', 'd']\n"
     ]
    }
   ],
   "source": [
    "import csv \n",
    "with open('sunset.csv', 'w', encoding='UTF-8') as writer_csv:\n",
    "    name_list = ['date', 'asan', 'dangjin', 'seosan']\n",
    "    writer = csv.DictWriter(writer_csv, fieldnames=name_list)\n",
    "    writer.writeheader()\n",
    "    writer.writerow({'date':total[],'asan' : '', 'dangjin':'','saosan':''})\n",
    "\n",
    "\n",
    "with open('test01.csv', 'r', encoding='UTF-8') as reader_csv:\n",
    "    reader = csv.reader(reader_csv, delimiter=\",\")\n",
    "    for row in reader:\n",
    "        print(row)\n",
    "\n"
   ]
  },
  {
   "cell_type": "code",
   "execution_count": 11,
   "id": "a8080877",
   "metadata": {},
   "outputs": [
    {
     "ename": "NameError",
     "evalue": "name 'read_csv' is not defined",
     "output_type": "error",
     "traceback": [
      "\u001b[1;31m---------------------------------------------------------------------------\u001b[0m",
      "\u001b[1;31mNameError\u001b[0m                                 Traceback (most recent call last)",
      "\u001b[1;32m~\\AppData\\Local\\Temp/ipykernel_10700/1798223167.py\u001b[0m in \u001b[0;36m<module>\u001b[1;34m\u001b[0m\n\u001b[0;32m      1\u001b[0m \u001b[1;32mimport\u001b[0m \u001b[0mpandas\u001b[0m \u001b[1;32mas\u001b[0m \u001b[0mpd\u001b[0m\u001b[1;33m\u001b[0m\u001b[1;33m\u001b[0m\u001b[0m\n\u001b[0;32m      2\u001b[0m \u001b[1;33m\u001b[0m\u001b[0m\n\u001b[1;32m----> 3\u001b[1;33m \u001b[0mdf\u001b[0m \u001b[1;33m=\u001b[0m \u001b[0mread_csv\u001b[0m\u001b[1;33m(\u001b[0m\u001b[1;34m'../asan.csv'\u001b[0m\u001b[1;33m,\u001b[0m \u001b[0msep\u001b[0m\u001b[1;33m=\u001b[0m\u001b[1;34m'\\t'\u001b[0m\u001b[1;33m)\u001b[0m\u001b[1;33m\u001b[0m\u001b[1;33m\u001b[0m\u001b[0m\n\u001b[0m\u001b[0;32m      4\u001b[0m \u001b[1;33m\u001b[0m\u001b[0m\n\u001b[0;32m      5\u001b[0m \u001b[0mcountry_df\u001b[0m \u001b[1;33m=\u001b[0m \u001b[0mdf\u001b[0m\u001b[1;33m[\u001b[0m\u001b[1;34m'양력(일)'\u001b[0m\u001b[1;33m]\u001b[0m\u001b[1;33m\u001b[0m\u001b[1;33m\u001b[0m\u001b[0m\n",
      "\u001b[1;31mNameError\u001b[0m: name 'read_csv' is not defined"
     ]
    }
   ],
   "source": [
    "import pandas as pd\n",
    "\n",
    "df = read_csv('../asan.csv', sep='\\t')\n",
    "\n",
    "country_df = df['양력(일)']\n",
    "print(type(country_df))\n",
    "print(country_df.head())\n",
    "print(country_df.tail())"
   ]
  },
  {
   "cell_type": "code",
   "execution_count": null,
   "id": "f07de7da",
   "metadata": {},
   "outputs": [],
   "source": []
  }
 ],
 "metadata": {
  "kernelspec": {
   "display_name": "Python 3 (ipykernel)",
   "language": "python",
   "name": "python3"
  },
  "language_info": {
   "codemirror_mode": {
    "name": "ipython",
    "version": 3
   },
   "file_extension": ".py",
   "mimetype": "text/x-python",
   "name": "python",
   "nbconvert_exporter": "python",
   "pygments_lexer": "ipython3",
   "version": "3.9.7"
  }
 },
 "nbformat": 4,
 "nbformat_minor": 5
}
