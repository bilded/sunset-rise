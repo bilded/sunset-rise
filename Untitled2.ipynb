{
 "cells": [
  {
   "cell_type": "code",
   "execution_count": null,
   "id": "70dda3c2",
   "metadata": {},
   "outputs": [
    {
     "name": "stdout",
     "output_type": "stream",
     "text": [
      "\n",
      "도시 이름을 입력하세요: 당진\n",
      "날짜를 입력하세요(yyyymmdd): 20220520\n"
     ]
    },
    {
     "name": "stderr",
     "output_type": "stream",
     "text": [
      "C:\\Users\\USER\\anaconda3\\lib\\site-packages\\openpyxl\\styles\\stylesheet.py:226: UserWarning: Workbook contains no default style, apply openpyxl's default\n",
      "  warn(\"Workbook contains no default style, apply openpyxl's default\")\n"
     ]
    },
    {
     "name": "stdout",
     "output_type": "stream",
     "text": [
      "일출: 05:22\n",
      "일몰: 19:38\n",
      "\n",
      "도시 이름을 입력하세요: 당진\n",
      "날짜를 입력하세요(yyyymmdd): 20220518\n",
      "일출: 05:24\n",
      "일몰: 19:36\n",
      "\n"
     ]
    }
   ],
   "source": [
    "import os\n",
    "import openpyxl                                         \n",
    "                                                        \n",
    "while (True):\n",
    "    print()\n",
    "    city = input('도시 이름을 입력하세요: ')\n",
    "    if (not city):                                      \n",
    "        print('프로그램을 종료합니다.')\n",
    "        break\n",
    "\n",
    "    filename = city + '.xlsx'\n",
    "    if (not os.path.isfile(filename)):                  \n",
    "        print('해당 도시의 자료가 존재하지 않습니다.')\n",
    "        continue\n",
    "     \n",
    "    yymmdd = input('날짜를 입력하세요(yyyymmdd): ')\n",
    "    if (len(yymmdd) != 8 or not yymmdd.isdigit()):      \n",
    "        print('날짜 입력 형식이 맞지 않습니다.')\n",
    "        continue\n",
    "    \n",
    "    wb = openpyxl.load_workbook(filename)               \n",
    "    sheet = wb.active\n",
    "\n",
    "    for i, row in enumerate(sheet.rows):                \n",
    "        if (i < 2):                                     \n",
    "            continue\n",
    "\n",
    "        if (yymmdd == row[0].value):                    \n",
    "            print('일출:', row[2].value)                \n",
    "            print('일몰:', row[4].value)\n",
    "            break\n",
    "    else:                                               \n",
    "        print('해당 날짜의 자료가 존재하지 않습니다.')  "
   ]
  },
  {
   "cell_type": "code",
   "execution_count": null,
   "id": "d8d461a1",
   "metadata": {},
   "outputs": [],
   "source": []
  }
 ],
 "metadata": {
  "kernelspec": {
   "display_name": "Python 3 (ipykernel)",
   "language": "python",
   "name": "python3"
  },
  "language_info": {
   "codemirror_mode": {
    "name": "ipython",
    "version": 3
   },
   "file_extension": ".py",
   "mimetype": "text/x-python",
   "name": "python",
   "nbconvert_exporter": "python",
   "pygments_lexer": "ipython3",
   "version": "3.9.7"
  }
 },
 "nbformat": 4,
 "nbformat_minor": 5
}
